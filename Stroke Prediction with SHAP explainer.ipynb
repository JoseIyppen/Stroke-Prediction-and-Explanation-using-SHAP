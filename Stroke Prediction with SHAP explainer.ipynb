{
 "cells": [
  {
   "cell_type": "code",
   "execution_count": 413,
   "id": "f7a53f8c",
   "metadata": {},
   "outputs": [],
   "source": [
    "import pandas as pd\n",
    "import numpy as np"
   ]
  },
  {
   "cell_type": "code",
   "execution_count": 414,
   "id": "5891de75",
   "metadata": {},
   "outputs": [],
   "source": [
    "df=pd.read_csv(r\"C:\\Users\\MY BOOK\\OneDrive\\Documents\\Data analytics\\datasets\\healthcare-dataset-stroke-data.csv\")"
   ]
  },
  {
   "cell_type": "code",
   "execution_count": 415,
   "id": "31a938f1",
   "metadata": {},
   "outputs": [
    {
     "data": {
      "text/plain": [
       "Index(['id', 'gender', 'age', 'hypertension', 'heart_disease', 'ever_married',\n",
       "       'work_type', 'Residence_type', 'avg_glucose_level', 'bmi',\n",
       "       'smoking_status', 'stroke'],\n",
       "      dtype='object')"
      ]
     },
     "execution_count": 415,
     "metadata": {},
     "output_type": "execute_result"
    }
   ],
   "source": [
    "df.columns"
   ]
  },
  {
   "cell_type": "code",
   "execution_count": 416,
   "id": "978de4ca",
   "metadata": {},
   "outputs": [
    {
     "data": {
      "text/html": [
       "<div>\n",
       "<style scoped>\n",
       "    .dataframe tbody tr th:only-of-type {\n",
       "        vertical-align: middle;\n",
       "    }\n",
       "\n",
       "    .dataframe tbody tr th {\n",
       "        vertical-align: top;\n",
       "    }\n",
       "\n",
       "    .dataframe thead th {\n",
       "        text-align: right;\n",
       "    }\n",
       "</style>\n",
       "<table border=\"1\" class=\"dataframe\">\n",
       "  <thead>\n",
       "    <tr style=\"text-align: right;\">\n",
       "      <th></th>\n",
       "      <th>id</th>\n",
       "      <th>gender</th>\n",
       "      <th>age</th>\n",
       "      <th>hypertension</th>\n",
       "      <th>heart_disease</th>\n",
       "      <th>ever_married</th>\n",
       "      <th>work_type</th>\n",
       "      <th>Residence_type</th>\n",
       "      <th>avg_glucose_level</th>\n",
       "      <th>bmi</th>\n",
       "      <th>smoking_status</th>\n",
       "      <th>stroke</th>\n",
       "    </tr>\n",
       "  </thead>\n",
       "  <tbody>\n",
       "    <tr>\n",
       "      <th>0</th>\n",
       "      <td>9046</td>\n",
       "      <td>Male</td>\n",
       "      <td>67.0</td>\n",
       "      <td>0</td>\n",
       "      <td>1</td>\n",
       "      <td>Yes</td>\n",
       "      <td>Private</td>\n",
       "      <td>Urban</td>\n",
       "      <td>228.69</td>\n",
       "      <td>36.6</td>\n",
       "      <td>formerly smoked</td>\n",
       "      <td>1</td>\n",
       "    </tr>\n",
       "    <tr>\n",
       "      <th>1</th>\n",
       "      <td>51676</td>\n",
       "      <td>Female</td>\n",
       "      <td>61.0</td>\n",
       "      <td>0</td>\n",
       "      <td>0</td>\n",
       "      <td>Yes</td>\n",
       "      <td>Self-employed</td>\n",
       "      <td>Rural</td>\n",
       "      <td>202.21</td>\n",
       "      <td>NaN</td>\n",
       "      <td>never smoked</td>\n",
       "      <td>1</td>\n",
       "    </tr>\n",
       "    <tr>\n",
       "      <th>2</th>\n",
       "      <td>31112</td>\n",
       "      <td>Male</td>\n",
       "      <td>80.0</td>\n",
       "      <td>0</td>\n",
       "      <td>1</td>\n",
       "      <td>Yes</td>\n",
       "      <td>Private</td>\n",
       "      <td>Rural</td>\n",
       "      <td>105.92</td>\n",
       "      <td>32.5</td>\n",
       "      <td>never smoked</td>\n",
       "      <td>1</td>\n",
       "    </tr>\n",
       "    <tr>\n",
       "      <th>3</th>\n",
       "      <td>60182</td>\n",
       "      <td>Female</td>\n",
       "      <td>49.0</td>\n",
       "      <td>0</td>\n",
       "      <td>0</td>\n",
       "      <td>Yes</td>\n",
       "      <td>Private</td>\n",
       "      <td>Urban</td>\n",
       "      <td>171.23</td>\n",
       "      <td>34.4</td>\n",
       "      <td>smokes</td>\n",
       "      <td>1</td>\n",
       "    </tr>\n",
       "    <tr>\n",
       "      <th>4</th>\n",
       "      <td>1665</td>\n",
       "      <td>Female</td>\n",
       "      <td>79.0</td>\n",
       "      <td>1</td>\n",
       "      <td>0</td>\n",
       "      <td>Yes</td>\n",
       "      <td>Self-employed</td>\n",
       "      <td>Rural</td>\n",
       "      <td>174.12</td>\n",
       "      <td>24.0</td>\n",
       "      <td>never smoked</td>\n",
       "      <td>1</td>\n",
       "    </tr>\n",
       "  </tbody>\n",
       "</table>\n",
       "</div>"
      ],
      "text/plain": [
       "      id  gender   age  hypertension  heart_disease ever_married  \\\n",
       "0   9046    Male  67.0             0              1          Yes   \n",
       "1  51676  Female  61.0             0              0          Yes   \n",
       "2  31112    Male  80.0             0              1          Yes   \n",
       "3  60182  Female  49.0             0              0          Yes   \n",
       "4   1665  Female  79.0             1              0          Yes   \n",
       "\n",
       "       work_type Residence_type  avg_glucose_level   bmi   smoking_status  \\\n",
       "0        Private          Urban             228.69  36.6  formerly smoked   \n",
       "1  Self-employed          Rural             202.21   NaN     never smoked   \n",
       "2        Private          Rural             105.92  32.5     never smoked   \n",
       "3        Private          Urban             171.23  34.4           smokes   \n",
       "4  Self-employed          Rural             174.12  24.0     never smoked   \n",
       "\n",
       "   stroke  \n",
       "0       1  \n",
       "1       1  \n",
       "2       1  \n",
       "3       1  \n",
       "4       1  "
      ]
     },
     "execution_count": 416,
     "metadata": {},
     "output_type": "execute_result"
    }
   ],
   "source": [
    "df.head()"
   ]
  },
  {
   "cell_type": "code",
   "execution_count": 417,
   "id": "4e1776d1",
   "metadata": {},
   "outputs": [],
   "source": [
    "df_orig=df.copy()"
   ]
  },
  {
   "cell_type": "code",
   "execution_count": 418,
   "id": "40b461e3",
   "metadata": {},
   "outputs": [
    {
     "name": "stdout",
     "output_type": "stream",
     "text": [
      "<class 'pandas.core.frame.DataFrame'>\n",
      "RangeIndex: 5110 entries, 0 to 5109\n",
      "Data columns (total 12 columns):\n",
      " #   Column             Non-Null Count  Dtype  \n",
      "---  ------             --------------  -----  \n",
      " 0   id                 5110 non-null   int64  \n",
      " 1   gender             5110 non-null   object \n",
      " 2   age                5110 non-null   float64\n",
      " 3   hypertension       5110 non-null   int64  \n",
      " 4   heart_disease      5110 non-null   int64  \n",
      " 5   ever_married       5110 non-null   object \n",
      " 6   work_type          5110 non-null   object \n",
      " 7   Residence_type     5110 non-null   object \n",
      " 8   avg_glucose_level  5110 non-null   float64\n",
      " 9   bmi                4909 non-null   float64\n",
      " 10  smoking_status     5110 non-null   object \n",
      " 11  stroke             5110 non-null   int64  \n",
      "dtypes: float64(3), int64(4), object(5)\n",
      "memory usage: 479.2+ KB\n"
     ]
    }
   ],
   "source": [
    "df.info()"
   ]
  },
  {
   "cell_type": "markdown",
   "id": "7959e341",
   "metadata": {},
   "source": [
    "# Data Preprocessing"
   ]
  },
  {
   "cell_type": "code",
   "execution_count": 419,
   "id": "0a9181af",
   "metadata": {},
   "outputs": [],
   "source": [
    "df=df.drop(['id', 'ever_married'], axis=1)"
   ]
  },
  {
   "cell_type": "code",
   "execution_count": 420,
   "id": "b5d7f6e3",
   "metadata": {},
   "outputs": [
    {
     "data": {
      "text/plain": [
       "array(['Male', 'Female', 'Other'], dtype=object)"
      ]
     },
     "execution_count": 420,
     "metadata": {},
     "output_type": "execute_result"
    }
   ],
   "source": [
    "df['gender'].unique()"
   ]
  },
  {
   "cell_type": "code",
   "execution_count": 421,
   "id": "af63de20",
   "metadata": {},
   "outputs": [
    {
     "data": {
      "text/plain": [
       "Female    2994\n",
       "Male      2115\n",
       "Other        1\n",
       "Name: gender, dtype: int64"
      ]
     },
     "execution_count": 421,
     "metadata": {},
     "output_type": "execute_result"
    }
   ],
   "source": [
    "df['gender'].value_counts()"
   ]
  },
  {
   "cell_type": "code",
   "execution_count": 422,
   "id": "4683c7c5",
   "metadata": {},
   "outputs": [],
   "source": [
    "df=df[df['gender']!='Other']"
   ]
  },
  {
   "cell_type": "code",
   "execution_count": 423,
   "id": "ff47b566",
   "metadata": {},
   "outputs": [],
   "source": [
    "df['gender']=df['gender'].map({'Male':1, 'Female':0})"
   ]
  },
  {
   "cell_type": "code",
   "execution_count": 424,
   "id": "863a42ba",
   "metadata": {},
   "outputs": [
    {
     "data": {
      "text/plain": [
       "gender                 0\n",
       "age                    0\n",
       "hypertension           0\n",
       "heart_disease          0\n",
       "work_type              0\n",
       "Residence_type         0\n",
       "avg_glucose_level      0\n",
       "bmi                  201\n",
       "smoking_status         0\n",
       "stroke                 0\n",
       "dtype: int64"
      ]
     },
     "execution_count": 424,
     "metadata": {},
     "output_type": "execute_result"
    }
   ],
   "source": [
    "df.isnull().sum()"
   ]
  },
  {
   "cell_type": "markdown",
   "id": "a89b7846",
   "metadata": {},
   "source": [
    "The BMI column has missing values. Instead of dropping those rows, we proceed to fill those blanks using KNN"
   ]
  },
  {
   "cell_type": "markdown",
   "id": "bfd56468",
   "metadata": {},
   "source": [
    "Since there is only a single observation with gender equal to 'other', we drop it"
   ]
  },
  {
   "cell_type": "code",
   "execution_count": 425,
   "id": "25fb6ce2",
   "metadata": {},
   "outputs": [],
   "source": [
    "df1=df[['age','gender', 'bmi']]"
   ]
  },
  {
   "cell_type": "code",
   "execution_count": 426,
   "id": "4c95a36b",
   "metadata": {},
   "outputs": [],
   "source": [
    "#from sklearn.preprocessing import StandardScaler\n",
    "\n",
    "#scaler=StandardScaler()\n",
    "\n",
    "#df1[['age','gender']]=scaler.fit_transform(df1[['age','gender']])"
   ]
  },
  {
   "cell_type": "code",
   "execution_count": 427,
   "id": "2d9ab98b",
   "metadata": {},
   "outputs": [
    {
     "data": {
      "text/html": [
       "<div>\n",
       "<style scoped>\n",
       "    .dataframe tbody tr th:only-of-type {\n",
       "        vertical-align: middle;\n",
       "    }\n",
       "\n",
       "    .dataframe tbody tr th {\n",
       "        vertical-align: top;\n",
       "    }\n",
       "\n",
       "    .dataframe thead th {\n",
       "        text-align: right;\n",
       "    }\n",
       "</style>\n",
       "<table border=\"1\" class=\"dataframe\">\n",
       "  <thead>\n",
       "    <tr style=\"text-align: right;\">\n",
       "      <th></th>\n",
       "      <th>age</th>\n",
       "      <th>gender</th>\n",
       "      <th>bmi</th>\n",
       "    </tr>\n",
       "  </thead>\n",
       "  <tbody>\n",
       "    <tr>\n",
       "      <th>0</th>\n",
       "      <td>67.0</td>\n",
       "      <td>1</td>\n",
       "      <td>36.6</td>\n",
       "    </tr>\n",
       "    <tr>\n",
       "      <th>1</th>\n",
       "      <td>61.0</td>\n",
       "      <td>0</td>\n",
       "      <td>NaN</td>\n",
       "    </tr>\n",
       "    <tr>\n",
       "      <th>2</th>\n",
       "      <td>80.0</td>\n",
       "      <td>1</td>\n",
       "      <td>32.5</td>\n",
       "    </tr>\n",
       "    <tr>\n",
       "      <th>3</th>\n",
       "      <td>49.0</td>\n",
       "      <td>0</td>\n",
       "      <td>34.4</td>\n",
       "    </tr>\n",
       "    <tr>\n",
       "      <th>4</th>\n",
       "      <td>79.0</td>\n",
       "      <td>0</td>\n",
       "      <td>24.0</td>\n",
       "    </tr>\n",
       "    <tr>\n",
       "      <th>...</th>\n",
       "      <td>...</td>\n",
       "      <td>...</td>\n",
       "      <td>...</td>\n",
       "    </tr>\n",
       "    <tr>\n",
       "      <th>5105</th>\n",
       "      <td>80.0</td>\n",
       "      <td>0</td>\n",
       "      <td>NaN</td>\n",
       "    </tr>\n",
       "    <tr>\n",
       "      <th>5106</th>\n",
       "      <td>81.0</td>\n",
       "      <td>0</td>\n",
       "      <td>40.0</td>\n",
       "    </tr>\n",
       "    <tr>\n",
       "      <th>5107</th>\n",
       "      <td>35.0</td>\n",
       "      <td>0</td>\n",
       "      <td>30.6</td>\n",
       "    </tr>\n",
       "    <tr>\n",
       "      <th>5108</th>\n",
       "      <td>51.0</td>\n",
       "      <td>1</td>\n",
       "      <td>25.6</td>\n",
       "    </tr>\n",
       "    <tr>\n",
       "      <th>5109</th>\n",
       "      <td>44.0</td>\n",
       "      <td>0</td>\n",
       "      <td>26.2</td>\n",
       "    </tr>\n",
       "  </tbody>\n",
       "</table>\n",
       "<p>5109 rows × 3 columns</p>\n",
       "</div>"
      ],
      "text/plain": [
       "       age  gender   bmi\n",
       "0     67.0       1  36.6\n",
       "1     61.0       0   NaN\n",
       "2     80.0       1  32.5\n",
       "3     49.0       0  34.4\n",
       "4     79.0       0  24.0\n",
       "...    ...     ...   ...\n",
       "5105  80.0       0   NaN\n",
       "5106  81.0       0  40.0\n",
       "5107  35.0       0  30.6\n",
       "5108  51.0       1  25.6\n",
       "5109  44.0       0  26.2\n",
       "\n",
       "[5109 rows x 3 columns]"
      ]
     },
     "execution_count": 427,
     "metadata": {},
     "output_type": "execute_result"
    }
   ],
   "source": [
    "df1"
   ]
  },
  {
   "cell_type": "code",
   "execution_count": 428,
   "id": "c3bba8ab",
   "metadata": {},
   "outputs": [],
   "source": [
    "df_m=df1[df1['bmi'].isnull()]\n",
    "x=df1[~df1['bmi'].isnull()]\n",
    "y=x['bmi']\n",
    "x=x.drop('bmi', axis=1)"
   ]
  },
  {
   "cell_type": "code",
   "execution_count": 429,
   "id": "56f9cfeb",
   "metadata": {},
   "outputs": [],
   "source": [
    "from sklearn.neighbors import KNeighborsRegressor\n",
    "\n",
    "kmodel=KNeighborsRegressor(n_neighbors=4).fit(x,y)\n",
    "pred=kmodel.predict(df_m[['age','gender']])"
   ]
  },
  {
   "cell_type": "code",
   "execution_count": 430,
   "id": "b3d89c74",
   "metadata": {},
   "outputs": [],
   "source": [
    "df.loc[df_m.index, 'bmi']=pred"
   ]
  },
  {
   "cell_type": "code",
   "execution_count": 431,
   "id": "abd0eaf0",
   "metadata": {},
   "outputs": [
    {
     "data": {
      "text/plain": [
       "gender               0\n",
       "age                  0\n",
       "hypertension         0\n",
       "heart_disease        0\n",
       "work_type            0\n",
       "Residence_type       0\n",
       "avg_glucose_level    0\n",
       "bmi                  0\n",
       "smoking_status       0\n",
       "stroke               0\n",
       "dtype: int64"
      ]
     },
     "execution_count": 431,
     "metadata": {},
     "output_type": "execute_result"
    }
   ],
   "source": [
    "df.isnull().sum()"
   ]
  },
  {
   "cell_type": "markdown",
   "id": "662ac828",
   "metadata": {},
   "source": [
    "# Exploratory Data Analysis"
   ]
  },
  {
   "cell_type": "markdown",
   "id": "0e859fac",
   "metadata": {},
   "source": [
    "Now lets check how age affects the chance for a stroke. Similarly, find the relation between gender and BMI with stroke\n",
    "\n",
    "This investigation can be done using data visualizations."
   ]
  },
  {
   "cell_type": "code",
   "execution_count": 432,
   "id": "165f0f74",
   "metadata": {},
   "outputs": [
    {
     "data": {
      "text/plain": [
       "Index(['gender', 'age', 'hypertension', 'heart_disease', 'work_type',\n",
       "       'Residence_type', 'avg_glucose_level', 'bmi', 'smoking_status',\n",
       "       'stroke'],\n",
       "      dtype='object')"
      ]
     },
     "execution_count": 432,
     "metadata": {},
     "output_type": "execute_result"
    }
   ],
   "source": [
    "df.columns"
   ]
  },
  {
   "cell_type": "code",
   "execution_count": 433,
   "id": "931ea2ce",
   "metadata": {},
   "outputs": [],
   "source": [
    "import matplotlib.pyplot as plt\n",
    "import seaborn as sns\n"
   ]
  },
  {
   "cell_type": "code",
   "execution_count": 434,
   "id": "23719186",
   "metadata": {},
   "outputs": [
    {
     "data": {
      "text/plain": [
       "<AxesSubplot:xlabel='stroke', ylabel='age'>"
      ]
     },
     "execution_count": 434,
     "metadata": {},
     "output_type": "execute_result"
    },
    {
     "data": {
      "image/png": "[encoded data removed]",
      "text/plain": [
       "<Figure size 576x360 with 1 Axes>"
      ]
     },
     "metadata": {
      "needs_background": "light"
     },
     "output_type": "display_data"
    }
   ],
   "source": [
    "plt.figure(figsize=(8,5))\n",
    "sns.violinplot(data=df,  y='age', x='stroke')\n"
   ]
  },
  {
   "cell_type": "markdown",
   "id": "2d217a23",
   "metadata": {},
   "source": [
    "We can easily conclude from the viz that the risk of stroke increases with age"
   ]
  },
  {
   "cell_type": "code",
   "execution_count": 435,
   "id": "1259e607",
   "metadata": {},
   "outputs": [
    {
     "name": "stderr",
     "output_type": "stream",
     "text": [
      "invalid value encountered in longlong_scalars\n"
     ]
    },
    {
     "data": {
      "text/plain": [
       "Text(0, 0.5, 'Rate')"
      ]
     },
     "execution_count": 435,
     "metadata": {},
     "output_type": "execute_result"
    },
    {
     "data": {
      "image/png": "[encoded data removed]",
      "text/plain": [
       "<Figure size 1008x360 with 1 Axes>"
      ]
     },
     "metadata": {
      "needs_background": "light"
     },
     "output_type": "display_data"
    }
   ],
   "source": [
    "df['age'] = df['age'].astype(int)\n",
    "\n",
    "rate = []\n",
    "for i in range(df['age'].min(), df['age'].max()):\n",
    "    rate.append(df[df['age'] < i]['stroke'].sum() / len(df[df['age'] < i]['stroke']))\n",
    "    \n",
    "   \n",
    "plt.figure(figsize=(14,5))\n",
    "sns.lineplot(data=rate,color='#0f4c81')\n",
    "plt.title('Stroke Rate by Age') \n",
    "plt.xlabel('Age')\n",
    "plt.ylabel('Rate')"
   ]
  },
  {
   "cell_type": "markdown",
   "id": "e3e9dab2",
   "metadata": {},
   "source": [
    "This plot visualises the how the chance of stroke increases with age."
   ]
  },
  {
   "cell_type": "code",
   "execution_count": 436,
   "id": "f3d6ab9e",
   "metadata": {
    "scrolled": true
   },
   "outputs": [
    {
     "data": {
      "text/plain": [
       "<AxesSubplot:xlabel='stroke', ylabel='bmi'>"
      ]
     },
     "execution_count": 436,
     "metadata": {},
     "output_type": "execute_result"
    },
    {
     "data": {
      "image/png": "[encoded data removed]",
      "text/plain": [
       "<Figure size 432x288 with 1 Axes>"
      ]
     },
     "metadata": {
      "needs_background": "light"
     },
     "output_type": "display_data"
    }
   ],
   "source": [
    "sns.violinplot(data=df, x='stroke',  y='bmi')\n"
   ]
  },
  {
   "cell_type": "markdown",
   "id": "de0fb429",
   "metadata": {},
   "source": [
    "Only a slight difference is seen in the violinplots."
   ]
  },
  {
   "cell_type": "code",
   "execution_count": 437,
   "id": "a1d52886",
   "metadata": {},
   "outputs": [
    {
     "data": {
      "image/png": "[encoded data removed]",
      "text/plain": [
       "<Figure size 432x288 with 1 Axes>"
      ]
     },
     "metadata": {
      "needs_background": "light"
     },
     "output_type": "display_data"
    }
   ],
   "source": [
    "df_stroke=df[df['stroke']==1]\n",
    "df_nostroke=df[df['stroke']!=1]\n",
    "\n",
    "sns.kdeplot(df_stroke['bmi'], label='Stroke')\n",
    "sns.kdeplot(df_nostroke['bmi'], label='No Stroke')\n",
    "\n",
    "plt.legend()\n",
    "plt.show()"
   ]
  },
  {
   "cell_type": "markdown",
   "id": "d0bda091",
   "metadata": {},
   "source": [
    "From the above plot, a slight increase in bmi is observed in the category with stroke.\n",
    "\n",
    "The following plot gives the distribution of average glucose levels in both the categories"
   ]
  },
  {
   "cell_type": "code",
   "execution_count": 438,
   "id": "0b69ee8a",
   "metadata": {},
   "outputs": [
    {
     "data": {
      "image/png": "[encoded data removed]",
      "text/plain": [
       "<Figure size 432x288 with 1 Axes>"
      ]
     },
     "metadata": {
      "needs_background": "light"
     },
     "output_type": "display_data"
    }
   ],
   "source": [
    "sns.kdeplot(df_stroke['avg_glucose_level'], label='Stroke')\n",
    "sns.kdeplot(df_nostroke['avg_glucose_level'], label='No Stroke')\n",
    "plt.legend()\n",
    "plt.show()"
   ]
  },
  {
   "cell_type": "markdown",
   "id": "5bbff65f",
   "metadata": {},
   "source": [
    "No relation is visible in the above plot.\n",
    "\n",
    "Now to check whether gender and stroke have some relation, we do a chi-square test"
   ]
  },
  {
   "cell_type": "code",
   "execution_count": 439,
   "id": "250cc036",
   "metadata": {},
   "outputs": [
    {
     "name": "stdout",
     "output_type": "stream",
     "text": [
      "Gender - p-value: 0.5598277580669416\n",
      "Residence type - p-value: 0.29982523877153633\n"
     ]
    }
   ],
   "source": [
    "import scipy.stats as stats\n",
    "\n",
    "crosstab = pd.crosstab(df['gender'], df['stroke'])\n",
    "chi2, p_value, _, _ = stats.chi2_contingency(crosstab)\n",
    "\n",
    "print(\"Gender - p-value:\", p_value)\n",
    "\n",
    "crosstab = pd.crosstab(df['Residence_type'], df['stroke'])\n",
    "chi2, p_value, _, _ = stats.chi2_contingency(crosstab)\n",
    "\n",
    "\n",
    "print(\"Residence type - p-value:\", p_value)"
   ]
  },
  {
   "cell_type": "markdown",
   "id": "3e9d4537",
   "metadata": {},
   "source": [
    "High p-value, so we can conclude that gender and residence type doesn't influence chance for stroke"
   ]
  },
  {
   "cell_type": "code",
   "execution_count": 440,
   "id": "d4de0054",
   "metadata": {},
   "outputs": [
    {
     "name": "stdout",
     "output_type": "stream",
     "text": [
      "Work type- p-value: 5.40903546949726e-10\n"
     ]
    }
   ],
   "source": [
    "crosstab = pd.crosstab(df['work_type'], df['stroke'])\n",
    "chi2, p_value, _, _ = stats.chi2_contingency(crosstab)\n",
    "\n",
    "print(\"Work type- p-value:\", p_value)"
   ]
  },
  {
   "cell_type": "markdown",
   "id": "803deb3f",
   "metadata": {},
   "source": [
    "Small p-value, so we can conclude that work type has an influence on chance of stroke "
   ]
  },
  {
   "cell_type": "code",
   "execution_count": 441,
   "id": "78dce6bf",
   "metadata": {},
   "outputs": [],
   "source": [
    "df=df.drop(['gender', 'Residence_type'], axis=1)"
   ]
  },
  {
   "cell_type": "code",
   "execution_count": null,
   "id": "e332579d",
   "metadata": {},
   "outputs": [],
   "source": []
  },
  {
   "cell_type": "markdown",
   "id": "56c512b3",
   "metadata": {},
   "source": [
    "# Model Development"
   ]
  },
  {
   "cell_type": "code",
   "execution_count": 442,
   "id": "a723c56f",
   "metadata": {},
   "outputs": [
    {
     "data": {
      "text/html": [
       "<div>\n",
       "<style scoped>\n",
       "    .dataframe tbody tr th:only-of-type {\n",
       "        vertical-align: middle;\n",
       "    }\n",
       "\n",
       "    .dataframe tbody tr th {\n",
       "        vertical-align: top;\n",
       "    }\n",
       "\n",
       "    .dataframe thead th {\n",
       "        text-align: right;\n",
       "    }\n",
       "</style>\n",
       "<table border=\"1\" class=\"dataframe\">\n",
       "  <thead>\n",
       "    <tr style=\"text-align: right;\">\n",
       "      <th></th>\n",
       "      <th>age</th>\n",
       "      <th>hypertension</th>\n",
       "      <th>heart_disease</th>\n",
       "      <th>work_type</th>\n",
       "      <th>avg_glucose_level</th>\n",
       "      <th>bmi</th>\n",
       "      <th>smoking_status</th>\n",
       "      <th>stroke</th>\n",
       "    </tr>\n",
       "  </thead>\n",
       "  <tbody>\n",
       "    <tr>\n",
       "      <th>0</th>\n",
       "      <td>67</td>\n",
       "      <td>0</td>\n",
       "      <td>1</td>\n",
       "      <td>Private</td>\n",
       "      <td>228.69</td>\n",
       "      <td>36.60</td>\n",
       "      <td>formerly smoked</td>\n",
       "      <td>1</td>\n",
       "    </tr>\n",
       "    <tr>\n",
       "      <th>1</th>\n",
       "      <td>61</td>\n",
       "      <td>0</td>\n",
       "      <td>0</td>\n",
       "      <td>Self-employed</td>\n",
       "      <td>202.21</td>\n",
       "      <td>29.10</td>\n",
       "      <td>never smoked</td>\n",
       "      <td>1</td>\n",
       "    </tr>\n",
       "    <tr>\n",
       "      <th>2</th>\n",
       "      <td>80</td>\n",
       "      <td>0</td>\n",
       "      <td>1</td>\n",
       "      <td>Private</td>\n",
       "      <td>105.92</td>\n",
       "      <td>32.50</td>\n",
       "      <td>never smoked</td>\n",
       "      <td>1</td>\n",
       "    </tr>\n",
       "    <tr>\n",
       "      <th>3</th>\n",
       "      <td>49</td>\n",
       "      <td>0</td>\n",
       "      <td>0</td>\n",
       "      <td>Private</td>\n",
       "      <td>171.23</td>\n",
       "      <td>34.40</td>\n",
       "      <td>smokes</td>\n",
       "      <td>1</td>\n",
       "    </tr>\n",
       "    <tr>\n",
       "      <th>4</th>\n",
       "      <td>79</td>\n",
       "      <td>1</td>\n",
       "      <td>0</td>\n",
       "      <td>Self-employed</td>\n",
       "      <td>174.12</td>\n",
       "      <td>24.00</td>\n",
       "      <td>never smoked</td>\n",
       "      <td>1</td>\n",
       "    </tr>\n",
       "    <tr>\n",
       "      <th>...</th>\n",
       "      <td>...</td>\n",
       "      <td>...</td>\n",
       "      <td>...</td>\n",
       "      <td>...</td>\n",
       "      <td>...</td>\n",
       "      <td>...</td>\n",
       "      <td>...</td>\n",
       "      <td>...</td>\n",
       "    </tr>\n",
       "    <tr>\n",
       "      <th>5105</th>\n",
       "      <td>80</td>\n",
       "      <td>1</td>\n",
       "      <td>0</td>\n",
       "      <td>Private</td>\n",
       "      <td>83.75</td>\n",
       "      <td>24.75</td>\n",
       "      <td>never smoked</td>\n",
       "      <td>0</td>\n",
       "    </tr>\n",
       "    <tr>\n",
       "      <th>5106</th>\n",
       "      <td>81</td>\n",
       "      <td>0</td>\n",
       "      <td>0</td>\n",
       "      <td>Self-employed</td>\n",
       "      <td>125.20</td>\n",
       "      <td>40.00</td>\n",
       "      <td>never smoked</td>\n",
       "      <td>0</td>\n",
       "    </tr>\n",
       "    <tr>\n",
       "      <th>5107</th>\n",
       "      <td>35</td>\n",
       "      <td>0</td>\n",
       "      <td>0</td>\n",
       "      <td>Self-employed</td>\n",
       "      <td>82.99</td>\n",
       "      <td>30.60</td>\n",
       "      <td>never smoked</td>\n",
       "      <td>0</td>\n",
       "    </tr>\n",
       "    <tr>\n",
       "      <th>5108</th>\n",
       "      <td>51</td>\n",
       "      <td>0</td>\n",
       "      <td>0</td>\n",
       "      <td>Private</td>\n",
       "      <td>166.29</td>\n",
       "      <td>25.60</td>\n",
       "      <td>formerly smoked</td>\n",
       "      <td>0</td>\n",
       "    </tr>\n",
       "    <tr>\n",
       "      <th>5109</th>\n",
       "      <td>44</td>\n",
       "      <td>0</td>\n",
       "      <td>0</td>\n",
       "      <td>Govt_job</td>\n",
       "      <td>85.28</td>\n",
       "      <td>26.20</td>\n",
       "      <td>Unknown</td>\n",
       "      <td>0</td>\n",
       "    </tr>\n",
       "  </tbody>\n",
       "</table>\n",
       "<p>5109 rows × 8 columns</p>\n",
       "</div>"
      ],
      "text/plain": [
       "      age  hypertension  heart_disease      work_type  avg_glucose_level  \\\n",
       "0      67             0              1        Private             228.69   \n",
       "1      61             0              0  Self-employed             202.21   \n",
       "2      80             0              1        Private             105.92   \n",
       "3      49             0              0        Private             171.23   \n",
       "4      79             1              0  Self-employed             174.12   \n",
       "...   ...           ...            ...            ...                ...   \n",
       "5105   80             1              0        Private              83.75   \n",
       "5106   81             0              0  Self-employed             125.20   \n",
       "5107   35             0              0  Self-employed              82.99   \n",
       "5108   51             0              0        Private             166.29   \n",
       "5109   44             0              0       Govt_job              85.28   \n",
       "\n",
       "        bmi   smoking_status  stroke  \n",
       "0     36.60  formerly smoked       1  \n",
       "1     29.10     never smoked       1  \n",
       "2     32.50     never smoked       1  \n",
       "3     34.40           smokes       1  \n",
       "4     24.00     never smoked       1  \n",
       "...     ...              ...     ...  \n",
       "5105  24.75     never smoked       0  \n",
       "5106  40.00     never smoked       0  \n",
       "5107  30.60     never smoked       0  \n",
       "5108  25.60  formerly smoked       0  \n",
       "5109  26.20          Unknown       0  \n",
       "\n",
       "[5109 rows x 8 columns]"
      ]
     },
     "execution_count": 442,
     "metadata": {},
     "output_type": "execute_result"
    }
   ],
   "source": [
    "df"
   ]
  },
  {
   "cell_type": "code",
   "execution_count": 443,
   "id": "2bc36a9a",
   "metadata": {},
   "outputs": [],
   "source": [
    "from sklearn.preprocessing import StandardScaler\n",
    "\n",
    "# Three numerical columns will be scaled using standard scaler\n",
    "scaler=StandardScaler()\n",
    "df[['age','avg_glucose_level', 'bmi']]=scaler.fit_transform(df[['age','avg_glucose_level', 'bmi']])"
   ]
  },
  {
   "cell_type": "code",
   "execution_count": 444,
   "id": "d1109c55",
   "metadata": {},
   "outputs": [
    {
     "data": {
      "text/html": [
       "<div>\n",
       "<style scoped>\n",
       "    .dataframe tbody tr th:only-of-type {\n",
       "        vertical-align: middle;\n",
       "    }\n",
       "\n",
       "    .dataframe tbody tr th {\n",
       "        vertical-align: top;\n",
       "    }\n",
       "\n",
       "    .dataframe thead th {\n",
       "        text-align: right;\n",
       "    }\n",
       "</style>\n",
       "<table border=\"1\" class=\"dataframe\">\n",
       "  <thead>\n",
       "    <tr style=\"text-align: right;\">\n",
       "      <th></th>\n",
       "      <th>age</th>\n",
       "      <th>hypertension</th>\n",
       "      <th>heart_disease</th>\n",
       "      <th>work_type</th>\n",
       "      <th>avg_glucose_level</th>\n",
       "      <th>bmi</th>\n",
       "      <th>smoking_status</th>\n",
       "      <th>stroke</th>\n",
       "    </tr>\n",
       "  </thead>\n",
       "  <tbody>\n",
       "    <tr>\n",
       "      <th>0</th>\n",
       "      <td>1.050758</td>\n",
       "      <td>0</td>\n",
       "      <td>1</td>\n",
       "      <td>Private</td>\n",
       "      <td>2.706450</td>\n",
       "      <td>0.986771</td>\n",
       "      <td>formerly smoked</td>\n",
       "      <td>1</td>\n",
       "    </tr>\n",
       "    <tr>\n",
       "      <th>1</th>\n",
       "      <td>0.785653</td>\n",
       "      <td>0</td>\n",
       "      <td>0</td>\n",
       "      <td>Self-employed</td>\n",
       "      <td>2.121652</td>\n",
       "      <td>0.020723</td>\n",
       "      <td>never smoked</td>\n",
       "      <td>1</td>\n",
       "    </tr>\n",
       "    <tr>\n",
       "      <th>2</th>\n",
       "      <td>1.625151</td>\n",
       "      <td>0</td>\n",
       "      <td>1</td>\n",
       "      <td>Private</td>\n",
       "      <td>-0.004867</td>\n",
       "      <td>0.458665</td>\n",
       "      <td>never smoked</td>\n",
       "      <td>1</td>\n",
       "    </tr>\n",
       "    <tr>\n",
       "      <th>3</th>\n",
       "      <td>0.255444</td>\n",
       "      <td>0</td>\n",
       "      <td>0</td>\n",
       "      <td>Private</td>\n",
       "      <td>1.437473</td>\n",
       "      <td>0.703397</td>\n",
       "      <td>smokes</td>\n",
       "      <td>1</td>\n",
       "    </tr>\n",
       "    <tr>\n",
       "      <th>4</th>\n",
       "      <td>1.580967</td>\n",
       "      <td>1</td>\n",
       "      <td>0</td>\n",
       "      <td>Self-employed</td>\n",
       "      <td>1.501297</td>\n",
       "      <td>-0.636190</td>\n",
       "      <td>never smoked</td>\n",
       "      <td>1</td>\n",
       "    </tr>\n",
       "    <tr>\n",
       "      <th>...</th>\n",
       "      <td>...</td>\n",
       "      <td>...</td>\n",
       "      <td>...</td>\n",
       "      <td>...</td>\n",
       "      <td>...</td>\n",
       "      <td>...</td>\n",
       "      <td>...</td>\n",
       "      <td>...</td>\n",
       "    </tr>\n",
       "    <tr>\n",
       "      <th>5105</th>\n",
       "      <td>1.625151</td>\n",
       "      <td>1</td>\n",
       "      <td>0</td>\n",
       "      <td>Private</td>\n",
       "      <td>-0.494481</td>\n",
       "      <td>-0.539585</td>\n",
       "      <td>never smoked</td>\n",
       "      <td>0</td>\n",
       "    </tr>\n",
       "    <tr>\n",
       "      <th>5106</th>\n",
       "      <td>1.669335</td>\n",
       "      <td>0</td>\n",
       "      <td>0</td>\n",
       "      <td>Self-employed</td>\n",
       "      <td>0.420922</td>\n",
       "      <td>1.424713</td>\n",
       "      <td>never smoked</td>\n",
       "      <td>0</td>\n",
       "    </tr>\n",
       "    <tr>\n",
       "      <th>5107</th>\n",
       "      <td>-0.363133</td>\n",
       "      <td>0</td>\n",
       "      <td>0</td>\n",
       "      <td>Self-employed</td>\n",
       "      <td>-0.511266</td>\n",
       "      <td>0.213932</td>\n",
       "      <td>never smoked</td>\n",
       "      <td>0</td>\n",
       "    </tr>\n",
       "    <tr>\n",
       "      <th>5108</th>\n",
       "      <td>0.343813</td>\n",
       "      <td>0</td>\n",
       "      <td>0</td>\n",
       "      <td>Private</td>\n",
       "      <td>1.328375</td>\n",
       "      <td>-0.430100</td>\n",
       "      <td>formerly smoked</td>\n",
       "      <td>0</td>\n",
       "    </tr>\n",
       "    <tr>\n",
       "      <th>5109</th>\n",
       "      <td>0.034524</td>\n",
       "      <td>0</td>\n",
       "      <td>0</td>\n",
       "      <td>Govt_job</td>\n",
       "      <td>-0.460692</td>\n",
       "      <td>-0.352816</td>\n",
       "      <td>Unknown</td>\n",
       "      <td>0</td>\n",
       "    </tr>\n",
       "  </tbody>\n",
       "</table>\n",
       "<p>5109 rows × 8 columns</p>\n",
       "</div>"
      ],
      "text/plain": [
       "           age  hypertension  heart_disease      work_type  avg_glucose_level  \\\n",
       "0     1.050758             0              1        Private           2.706450   \n",
       "1     0.785653             0              0  Self-employed           2.121652   \n",
       "2     1.625151             0              1        Private          -0.004867   \n",
       "3     0.255444             0              0        Private           1.437473   \n",
       "4     1.580967             1              0  Self-employed           1.501297   \n",
       "...        ...           ...            ...            ...                ...   \n",
       "5105  1.625151             1              0        Private          -0.494481   \n",
       "5106  1.669335             0              0  Self-employed           0.420922   \n",
       "5107 -0.363133             0              0  Self-employed          -0.511266   \n",
       "5108  0.343813             0              0        Private           1.328375   \n",
       "5109  0.034524             0              0       Govt_job          -0.460692   \n",
       "\n",
       "           bmi   smoking_status  stroke  \n",
       "0     0.986771  formerly smoked       1  \n",
       "1     0.020723     never smoked       1  \n",
       "2     0.458665     never smoked       1  \n",
       "3     0.703397           smokes       1  \n",
       "4    -0.636190     never smoked       1  \n",
       "...        ...              ...     ...  \n",
       "5105 -0.539585     never smoked       0  \n",
       "5106  1.424713     never smoked       0  \n",
       "5107  0.213932     never smoked       0  \n",
       "5108 -0.430100  formerly smoked       0  \n",
       "5109 -0.352816          Unknown       0  \n",
       "\n",
       "[5109 rows x 8 columns]"
      ]
     },
     "execution_count": 444,
     "metadata": {},
     "output_type": "execute_result"
    }
   ],
   "source": [
    "df"
   ]
  },
  {
   "cell_type": "code",
   "execution_count": 445,
   "id": "5cf2f25f",
   "metadata": {},
   "outputs": [],
   "source": [
    "# Two categorical columns will be replaced with dummy variables\n",
    "\n",
    "columns_to_encode = ['work_type', 'smoking_status']\n",
    "\n",
    "df_encoded = pd.get_dummies(df, columns=columns_to_encode)"
   ]
  },
  {
   "cell_type": "code",
   "execution_count": 446,
   "id": "f92ae6d9",
   "metadata": {},
   "outputs": [
    {
     "data": {
      "text/html": [
       "<div>\n",
       "<style scoped>\n",
       "    .dataframe tbody tr th:only-of-type {\n",
       "        vertical-align: middle;\n",
       "    }\n",
       "\n",
       "    .dataframe tbody tr th {\n",
       "        vertical-align: top;\n",
       "    }\n",
       "\n",
       "    .dataframe thead th {\n",
       "        text-align: right;\n",
       "    }\n",
       "</style>\n",
       "<table border=\"1\" class=\"dataframe\">\n",
       "  <thead>\n",
       "    <tr style=\"text-align: right;\">\n",
       "      <th></th>\n",
       "      <th>age</th>\n",
       "      <th>hypertension</th>\n",
       "      <th>heart_disease</th>\n",
       "      <th>avg_glucose_level</th>\n",
       "      <th>bmi</th>\n",
       "      <th>stroke</th>\n",
       "      <th>work_type_Govt_job</th>\n",
       "      <th>work_type_Never_worked</th>\n",
       "      <th>work_type_Private</th>\n",
       "      <th>work_type_Self-employed</th>\n",
       "      <th>work_type_children</th>\n",
       "      <th>smoking_status_Unknown</th>\n",
       "      <th>smoking_status_formerly smoked</th>\n",
       "      <th>smoking_status_never smoked</th>\n",
       "      <th>smoking_status_smokes</th>\n",
       "    </tr>\n",
       "  </thead>\n",
       "  <tbody>\n",
       "    <tr>\n",
       "      <th>0</th>\n",
       "      <td>1.050758</td>\n",
       "      <td>0</td>\n",
       "      <td>1</td>\n",
       "      <td>2.706450</td>\n",
       "      <td>0.986771</td>\n",
       "      <td>1</td>\n",
       "      <td>0</td>\n",
       "      <td>0</td>\n",
       "      <td>1</td>\n",
       "      <td>0</td>\n",
       "      <td>0</td>\n",
       "      <td>0</td>\n",
       "      <td>1</td>\n",
       "      <td>0</td>\n",
       "      <td>0</td>\n",
       "    </tr>\n",
       "    <tr>\n",
       "      <th>1</th>\n",
       "      <td>0.785653</td>\n",
       "      <td>0</td>\n",
       "      <td>0</td>\n",
       "      <td>2.121652</td>\n",
       "      <td>0.020723</td>\n",
       "      <td>1</td>\n",
       "      <td>0</td>\n",
       "      <td>0</td>\n",
       "      <td>0</td>\n",
       "      <td>1</td>\n",
       "      <td>0</td>\n",
       "      <td>0</td>\n",
       "      <td>0</td>\n",
       "      <td>1</td>\n",
       "      <td>0</td>\n",
       "    </tr>\n",
       "    <tr>\n",
       "      <th>2</th>\n",
       "      <td>1.625151</td>\n",
       "      <td>0</td>\n",
       "      <td>1</td>\n",
       "      <td>-0.004867</td>\n",
       "      <td>0.458665</td>\n",
       "      <td>1</td>\n",
       "      <td>0</td>\n",
       "      <td>0</td>\n",
       "      <td>1</td>\n",
       "      <td>0</td>\n",
       "      <td>0</td>\n",
       "      <td>0</td>\n",
       "      <td>0</td>\n",
       "      <td>1</td>\n",
       "      <td>0</td>\n",
       "    </tr>\n",
       "    <tr>\n",
       "      <th>3</th>\n",
       "      <td>0.255444</td>\n",
       "      <td>0</td>\n",
       "      <td>0</td>\n",
       "      <td>1.437473</td>\n",
       "      <td>0.703397</td>\n",
       "      <td>1</td>\n",
       "      <td>0</td>\n",
       "      <td>0</td>\n",
       "      <td>1</td>\n",
       "      <td>0</td>\n",
       "      <td>0</td>\n",
       "      <td>0</td>\n",
       "      <td>0</td>\n",
       "      <td>0</td>\n",
       "      <td>1</td>\n",
       "    </tr>\n",
       "    <tr>\n",
       "      <th>4</th>\n",
       "      <td>1.580967</td>\n",
       "      <td>1</td>\n",
       "      <td>0</td>\n",
       "      <td>1.501297</td>\n",
       "      <td>-0.636190</td>\n",
       "      <td>1</td>\n",
       "      <td>0</td>\n",
       "      <td>0</td>\n",
       "      <td>0</td>\n",
       "      <td>1</td>\n",
       "      <td>0</td>\n",
       "      <td>0</td>\n",
       "      <td>0</td>\n",
       "      <td>1</td>\n",
       "      <td>0</td>\n",
       "    </tr>\n",
       "    <tr>\n",
       "      <th>...</th>\n",
       "      <td>...</td>\n",
       "      <td>...</td>\n",
       "      <td>...</td>\n",
       "      <td>...</td>\n",
       "      <td>...</td>\n",
       "      <td>...</td>\n",
       "      <td>...</td>\n",
       "      <td>...</td>\n",
       "      <td>...</td>\n",
       "      <td>...</td>\n",
       "      <td>...</td>\n",
       "      <td>...</td>\n",
       "      <td>...</td>\n",
       "      <td>...</td>\n",
       "      <td>...</td>\n",
       "    </tr>\n",
       "    <tr>\n",
       "      <th>5105</th>\n",
       "      <td>1.625151</td>\n",
       "      <td>1</td>\n",
       "      <td>0</td>\n",
       "      <td>-0.494481</td>\n",
       "      <td>-0.539585</td>\n",
       "      <td>0</td>\n",
       "      <td>0</td>\n",
       "      <td>0</td>\n",
       "      <td>1</td>\n",
       "      <td>0</td>\n",
       "      <td>0</td>\n",
       "      <td>0</td>\n",
       "      <td>0</td>\n",
       "      <td>1</td>\n",
       "      <td>0</td>\n",
       "    </tr>\n",
       "    <tr>\n",
       "      <th>5106</th>\n",
       "      <td>1.669335</td>\n",
       "      <td>0</td>\n",
       "      <td>0</td>\n",
       "      <td>0.420922</td>\n",
       "      <td>1.424713</td>\n",
       "      <td>0</td>\n",
       "      <td>0</td>\n",
       "      <td>0</td>\n",
       "      <td>0</td>\n",
       "      <td>1</td>\n",
       "      <td>0</td>\n",
       "      <td>0</td>\n",
       "      <td>0</td>\n",
       "      <td>1</td>\n",
       "      <td>0</td>\n",
       "    </tr>\n",
       "    <tr>\n",
       "      <th>5107</th>\n",
       "      <td>-0.363133</td>\n",
       "      <td>0</td>\n",
       "      <td>0</td>\n",
       "      <td>-0.511266</td>\n",
       "      <td>0.213932</td>\n",
       "      <td>0</td>\n",
       "      <td>0</td>\n",
       "      <td>0</td>\n",
       "      <td>0</td>\n",
       "      <td>1</td>\n",
       "      <td>0</td>\n",
       "      <td>0</td>\n",
       "      <td>0</td>\n",
       "      <td>1</td>\n",
       "      <td>0</td>\n",
       "    </tr>\n",
       "    <tr>\n",
       "      <th>5108</th>\n",
       "      <td>0.343813</td>\n",
       "      <td>0</td>\n",
       "      <td>0</td>\n",
       "      <td>1.328375</td>\n",
       "      <td>-0.430100</td>\n",
       "      <td>0</td>\n",
       "      <td>0</td>\n",
       "      <td>0</td>\n",
       "      <td>1</td>\n",
       "      <td>0</td>\n",
       "      <td>0</td>\n",
       "      <td>0</td>\n",
       "      <td>1</td>\n",
       "      <td>0</td>\n",
       "      <td>0</td>\n",
       "    </tr>\n",
       "    <tr>\n",
       "      <th>5109</th>\n",
       "      <td>0.034524</td>\n",
       "      <td>0</td>\n",
       "      <td>0</td>\n",
       "      <td>-0.460692</td>\n",
       "      <td>-0.352816</td>\n",
       "      <td>0</td>\n",
       "      <td>1</td>\n",
       "      <td>0</td>\n",
       "      <td>0</td>\n",
       "      <td>0</td>\n",
       "      <td>0</td>\n",
       "      <td>1</td>\n",
       "      <td>0</td>\n",
       "      <td>0</td>\n",
       "      <td>0</td>\n",
       "    </tr>\n",
       "  </tbody>\n",
       "</table>\n",
       "<p>5109 rows × 15 columns</p>\n",
       "</div>"
      ],
      "text/plain": [
       "           age  hypertension  heart_disease  avg_glucose_level       bmi  \\\n",
       "0     1.050758             0              1           2.706450  0.986771   \n",
       "1     0.785653             0              0           2.121652  0.020723   \n",
       "2     1.625151             0              1          -0.004867  0.458665   \n",
       "3     0.255444             0              0           1.437473  0.703397   \n",
       "4     1.580967             1              0           1.501297 -0.636190   \n",
       "...        ...           ...            ...                ...       ...   \n",
       "5105  1.625151             1              0          -0.494481 -0.539585   \n",
       "5106  1.669335             0              0           0.420922  1.424713   \n",
       "5107 -0.363133             0              0          -0.511266  0.213932   \n",
       "5108  0.343813             0              0           1.328375 -0.430100   \n",
       "5109  0.034524             0              0          -0.460692 -0.352816   \n",
       "\n",
       "      stroke  work_type_Govt_job  work_type_Never_worked  work_type_Private  \\\n",
       "0          1                   0                       0                  1   \n",
       "1          1                   0                       0                  0   \n",
       "2          1                   0                       0                  1   \n",
       "3          1                   0                       0                  1   \n",
       "4          1                   0                       0                  0   \n",
       "...      ...                 ...                     ...                ...   \n",
       "5105       0                   0                       0                  1   \n",
       "5106       0                   0                       0                  0   \n",
       "5107       0                   0                       0                  0   \n",
       "5108       0                   0                       0                  1   \n",
       "5109       0                   1                       0                  0   \n",
       "\n",
       "      work_type_Self-employed  work_type_children  smoking_status_Unknown  \\\n",
       "0                           0                   0                       0   \n",
       "1                           1                   0                       0   \n",
       "2                           0                   0                       0   \n",
       "3                           0                   0                       0   \n",
       "4                           1                   0                       0   \n",
       "...                       ...                 ...                     ...   \n",
       "5105                        0                   0                       0   \n",
       "5106                        1                   0                       0   \n",
       "5107                        1                   0                       0   \n",
       "5108                        0                   0                       0   \n",
       "5109                        0                   0                       1   \n",
       "\n",
       "      smoking_status_formerly smoked  smoking_status_never smoked  \\\n",
       "0                                  1                            0   \n",
       "1                                  0                            1   \n",
       "2                                  0                            1   \n",
       "3                                  0                            0   \n",
       "4                                  0                            1   \n",
       "...                              ...                          ...   \n",
       "5105                               0                            1   \n",
       "5106                               0                            1   \n",
       "5107                               0                            1   \n",
       "5108                               1                            0   \n",
       "5109                               0                            0   \n",
       "\n",
       "      smoking_status_smokes  \n",
       "0                         0  \n",
       "1                         0  \n",
       "2                         0  \n",
       "3                         1  \n",
       "4                         0  \n",
       "...                     ...  \n",
       "5105                      0  \n",
       "5106                      0  \n",
       "5107                      0  \n",
       "5108                      0  \n",
       "5109                      0  \n",
       "\n",
       "[5109 rows x 15 columns]"
      ]
     },
     "execution_count": 446,
     "metadata": {},
     "output_type": "execute_result"
    }
   ],
   "source": [
    "df_encoded"
   ]
  },
  {
   "cell_type": "code",
   "execution_count": null,
   "id": "0d274a6a",
   "metadata": {},
   "outputs": [],
   "source": []
  },
  {
   "cell_type": "code",
   "execution_count": null,
   "id": "71577043",
   "metadata": {},
   "outputs": [],
   "source": []
  },
  {
   "cell_type": "code",
   "execution_count": 447,
   "id": "d372b731",
   "metadata": {},
   "outputs": [],
   "source": [
    "from sklearn.ensemble import RandomForestClassifier\n",
    "from sklearn.metrics import accuracy_score, confusion_matrix,precision_score, recall_score, classification_report, f1_score\n",
    "from sklearn.model_selection import train_test_split\n",
    "\n",
    "from sklearn.linear_model import LogisticRegression\n",
    "from sklearn.svm import SVC\n",
    "from sklearn.ensemble import AdaBoostClassifier\n",
    "from sklearn.model_selection import cross_val_score\n",
    "\n",
    "from imblearn.over_sampling import SMOTE"
   ]
  },
  {
   "cell_type": "code",
   "execution_count": 448,
   "id": "79f379b2",
   "metadata": {},
   "outputs": [],
   "source": [
    "x=df_encoded.drop('stroke', axis=1)\n",
    "y=df_encoded['stroke']"
   ]
  },
  {
   "cell_type": "code",
   "execution_count": 449,
   "id": "2fa0b095",
   "metadata": {},
   "outputs": [],
   "source": [
    "train_x,  test_x, train_y, test_y=train_test_split(x,y, test_size=0.3,random_state=10)"
   ]
  },
  {
   "cell_type": "code",
   "execution_count": 459,
   "id": "8c9cdaab",
   "metadata": {},
   "outputs": [
    {
     "data": {
      "text/plain": [
       "0    4860\n",
       "1     249\n",
       "Name: stroke, dtype: int64"
      ]
     },
     "execution_count": 459,
     "metadata": {},
     "output_type": "execute_result"
    }
   ],
   "source": [
    "y.value_counts()"
   ]
  },
  {
   "cell_type": "code",
   "execution_count": 450,
   "id": "78de1422",
   "metadata": {},
   "outputs": [],
   "source": [
    "# Since the data set is highly imbalanced in favour of no-stroke class, we will use SMOTE.\n",
    "\n",
    "smote=SMOTE(random_state=20)\n",
    "train_xsmote, train_ysmote=smote.fit_resample(train_x, train_y)"
   ]
  },
  {
   "cell_type": "markdown",
   "id": "f9537b53",
   "metadata": {},
   "source": [
    "Lets model RandomForest, LogisticRegression, SVM and AdaBoost for classification and determine their F1 scores"
   ]
  },
  {
   "cell_type": "code",
   "execution_count": 451,
   "id": "2fcdc8e3",
   "metadata": {},
   "outputs": [
    {
     "name": "stdout",
     "output_type": "stream",
     "text": [
      "RF score 0.9187464323595517\n",
      "LR score 0.8098083002038949\n",
      "SVC score 0.8523326433419951\n",
      "AB score 0.802692225681788\n"
     ]
    }
   ],
   "source": [
    "rf_model=RandomForestClassifier(criterion='gini', n_estimators=10)\n",
    "rf_cv_scores = cross_val_score(rf_model, train_xsmote, train_ysmote, cv=5, scoring='f1' )\n",
    "print('RF score', rf_cv_scores.mean())\n",
    "\n",
    "lr_model=LogisticRegression()\n",
    "lr_cv_scores = cross_val_score(lr_model, train_xsmote, train_ysmote, cv=5, scoring='f1' )\n",
    "print('LR score',lr_cv_scores.mean())\n",
    "\n",
    "\n",
    "svc_model=SVC(kernel='rbf')\n",
    "svc_cv_scores = cross_val_score(svc_model, train_xsmote, train_ysmote, cv=5, scoring='f1' )\n",
    "print('SVC score',svc_cv_scores.mean())\n",
    "\n",
    "ab_model = AdaBoostClassifier(n_estimators=20)\n",
    "ab_cv_scores = cross_val_score(ab_model, train_xsmote, train_ysmote, cv=5, scoring='f1' )\n",
    "print('AB score',ab_cv_scores.mean())"
   ]
  },
  {
   "cell_type": "markdown",
   "id": "2a08cce8",
   "metadata": {},
   "source": [
    "Observe that RandomForest performed the best here, now lets check how they perform on the unseen test data "
   ]
  },
  {
   "cell_type": "code",
   "execution_count": 452,
   "id": "f546fa87",
   "metadata": {},
   "outputs": [
    {
     "name": "stdout",
     "output_type": "stream",
     "text": [
      "Accuracy of the RandomForest model:  0.8930202217873451\n",
      "[[1351  102]\n",
      " [  62   18]]\n",
      "              precision    recall  f1-score   support\n",
      "\n",
      "           0       0.96      0.93      0.94      1453\n",
      "           1       0.15      0.23      0.18        80\n",
      "\n",
      "    accuracy                           0.89      1533\n",
      "   macro avg       0.55      0.58      0.56      1533\n",
      "weighted avg       0.91      0.89      0.90      1533\n",
      "\n",
      "Accuracy of the LogisticRegression model:  0.7886497064579256\n",
      "[[1156  297]\n",
      " [  27   53]]\n",
      "              precision    recall  f1-score   support\n",
      "\n",
      "           0       0.98      0.80      0.88      1453\n",
      "           1       0.15      0.66      0.25        80\n",
      "\n",
      "    accuracy                           0.79      1533\n",
      "   macro avg       0.56      0.73      0.56      1533\n",
      "weighted avg       0.93      0.79      0.84      1533\n",
      "\n",
      "Accuracy of the svc model:  0.8193085453359426\n",
      "[[1213  240]\n",
      " [  37   43]]\n",
      "              precision    recall  f1-score   support\n",
      "\n",
      "           0       0.97      0.83      0.90      1453\n",
      "           1       0.15      0.54      0.24        80\n",
      "\n",
      "    accuracy                           0.82      1533\n",
      "   macro avg       0.56      0.69      0.57      1533\n",
      "weighted avg       0.93      0.82      0.86      1533\n",
      "\n",
      "Accuracy of the AdadBoost model:  0.741030658838878\n",
      "[[1079  374]\n",
      " [  23   57]]\n",
      "              precision    recall  f1-score   support\n",
      "\n",
      "           0       0.98      0.74      0.84      1453\n",
      "           1       0.13      0.71      0.22        80\n",
      "\n",
      "    accuracy                           0.74      1533\n",
      "   macro avg       0.56      0.73      0.53      1533\n",
      "weighted avg       0.93      0.74      0.81      1533\n",
      "\n"
     ]
    }
   ],
   "source": [
    "rf_model=RandomForestClassifier(criterion='gini', n_estimators=50).fit(train_xsmote, train_ysmote)\n",
    "pred=rf_model.predict(test_x)\n",
    "print('Accuracy of the RandomForest model: ',accuracy_score(test_y, pred))\n",
    "print(confusion_matrix(test_y, pred))\n",
    "print(classification_report(test_y, pred))\n",
    "\n",
    "lr_model=LogisticRegression().fit(train_xsmote, train_ysmote)\n",
    "pred=lr_model.predict(test_x)\n",
    "print('Accuracy of the LogisticRegression model: ', accuracy_score(test_y, pred))\n",
    "print(confusion_matrix(test_y, pred))\n",
    "print(classification_report(test_y, pred))\n",
    "\n",
    "\n",
    "svc_model=SVC(kernel='rbf').fit(train_xsmote, train_ysmote)\n",
    "pred=svc_model.predict(test_x)\n",
    "print('Accuracy of the svc model: ', accuracy_score(test_y, pred))\n",
    "print(confusion_matrix(test_y, pred))\n",
    "print(classification_report(test_y, pred))\n",
    "\n",
    "ab_model = AdaBoostClassifier(n_estimators=20).fit(train_xsmote, train_ysmote)\n",
    "pred=ab_model.predict(test_x)\n",
    "print('Accuracy of the AdadBoost model: ', accuracy_score(test_y, pred))\n",
    "print(confusion_matrix(test_y, pred))\n",
    "print(classification_report(test_y, pred))"
   ]
  },
  {
   "cell_type": "markdown",
   "id": "97cf4a79",
   "metadata": {},
   "source": [
    "Observe that though Randomforest performed the best in terms of score, it performed poorly in terms of precision and recall of the 1 class. Logistic Regression and AdaBoost models gave beter recall rate. \n",
    "\n",
    "The developed models are mostly very good in identifying a no-stroke observation. They perform poorly in predicting stroke, by misclassifying too many no-stroke cases as stroke cases.\n",
    "While predicting diseases, misclassifying a positive case as negative is more dangerous than misclassifying a negative case as positive. But insisting on identifying all positive cases will produce too many false positives, which again is not recommended.  We should try for the balance between the two approaches.\n"
   ]
  },
  {
   "cell_type": "markdown",
   "id": "0115ade1",
   "metadata": {},
   "source": [
    "Logistic Regression had one of the highest f1 score, so lets use gridsearch to tune that for better results."
   ]
  },
  {
   "cell_type": "code",
   "execution_count": 453,
   "id": "1253ae8f",
   "metadata": {},
   "outputs": [
    {
     "name": "stdout",
     "output_type": "stream",
     "text": [
      "{'C': 50, 'penalty': 'l1'}\n"
     ]
    }
   ],
   "source": [
    "p = ['l1','l2']\n",
    "C = [0.001, 0.01, 0.1, 1,5, 10,50] \n",
    "\n",
    "lr_param_grid = {'penalty': p, 'C': C}\n",
    "lr_model = LogisticRegression( max_iter=500, solver='liblinear')\n",
    "grid = GridSearchCV(lr_model, lr_param_grid, cv=5)\n",
    "\n",
    "grid.fit(train_xsmote, train_ysmote)\n",
    "best_params=grid.best_params_\n",
    "print(best_params)"
   ]
  },
  {
   "cell_type": "code",
   "execution_count": 454,
   "id": "7f5c8f88",
   "metadata": {},
   "outputs": [
    {
     "name": "stdout",
     "output_type": "stream",
     "text": [
      "Accuracy Score:  0.7932159165035877\n",
      "[[1163  290]\n",
      " [  27   53]]\n",
      "              precision    recall  f1-score   support\n",
      "\n",
      "           0       0.98      0.80      0.88      1453\n",
      "           1       0.15      0.66      0.25        80\n",
      "\n",
      "    accuracy                           0.79      1533\n",
      "   macro avg       0.57      0.73      0.57      1533\n",
      "weighted avg       0.93      0.79      0.85      1533\n",
      "\n"
     ]
    }
   ],
   "source": [
    "# Here we evaluate the performance of the best LogisticRegression model returned by gridseaarch\n",
    "best_model=grid.best_estimator_\n",
    "\n",
    "pred=best_model.predict(test_x)\n",
    "print('Accuracy Score: ', accuracy_score(test_y,pred))\n",
    "print(confusion_matrix(test_y, pred))\n",
    "print(classification_report(test_y, pred))\n"
   ]
  },
  {
   "cell_type": "markdown",
   "id": "150db1a1",
   "metadata": {},
   "source": [
    "Thus with hyperparameter tuning, the Logisitc Regression model returns a model which is much better than Random Forest's in terms of recall.\n",
    "Further, we can maniupulate the threshold value that the model uses in classification.\n",
    "\n",
    "Let's try that..."
   ]
  },
  {
   "cell_type": "code",
   "execution_count": 455,
   "id": "a01a4284",
   "metadata": {
    "scrolled": true
   },
   "outputs": [
    {
     "name": "stdout",
     "output_type": "stream",
     "text": [
      "Accuracy Score:  0.6457925636007827\n",
      "[[916 537]\n",
      " [  6  74]]\n",
      "              precision    recall  f1-score   support\n",
      "\n",
      "           0       0.99      0.63      0.77      1453\n",
      "           1       0.12      0.93      0.21        80\n",
      "\n",
      "    accuracy                           0.65      1533\n",
      "   macro avg       0.56      0.78      0.49      1533\n",
      "weighted avg       0.95      0.65      0.74      1533\n",
      "\n",
      "Threshold: 0.25\n",
      "Accuracy Score:  0.690150032615786\n",
      "[[989 464]\n",
      " [ 11  69]]\n",
      "              precision    recall  f1-score   support\n",
      "\n",
      "           0       0.99      0.68      0.81      1453\n",
      "           1       0.13      0.86      0.23        80\n",
      "\n",
      "    accuracy                           0.69      1533\n",
      "   macro avg       0.56      0.77      0.52      1533\n",
      "weighted avg       0.94      0.69      0.78      1533\n",
      "\n",
      "Threshold: 0.3\n",
      "Accuracy Score:  0.7201565557729941\n",
      "[[1036  417]\n",
      " [  12   68]]\n",
      "              precision    recall  f1-score   support\n",
      "\n",
      "           0       0.99      0.71      0.83      1453\n",
      "           1       0.14      0.85      0.24        80\n",
      "\n",
      "    accuracy                           0.72      1533\n",
      "   macro avg       0.56      0.78      0.53      1533\n",
      "weighted avg       0.94      0.72      0.80      1533\n",
      "\n",
      "Threshold: 0.35\n",
      "Accuracy Score:  0.746249184605349\n",
      "[[1078  375]\n",
      " [  14   66]]\n",
      "              precision    recall  f1-score   support\n",
      "\n",
      "           0       0.99      0.74      0.85      1453\n",
      "           1       0.15      0.82      0.25        80\n",
      "\n",
      "    accuracy                           0.75      1533\n",
      "   macro avg       0.57      0.78      0.55      1533\n",
      "weighted avg       0.94      0.75      0.82      1533\n",
      "\n",
      "Threshold: 0.4\n",
      "Accuracy Score:  0.7645140247879973\n",
      "[[1113  340]\n",
      " [  21   59]]\n",
      "              precision    recall  f1-score   support\n",
      "\n",
      "           0       0.98      0.77      0.86      1453\n",
      "           1       0.15      0.74      0.25        80\n",
      "\n",
      "    accuracy                           0.76      1533\n",
      "   macro avg       0.56      0.75      0.55      1533\n",
      "weighted avg       0.94      0.76      0.83      1533\n",
      "\n",
      "Threshold: 0.45\n"
     ]
    }
   ],
   "source": [
    "lr_model = LogisticRegression(solver='liblinear', C=50, penalty='l1').fit(train_xsmote, train_ysmote)\n",
    "\n",
    "probabilities = lr_model.predict_proba(test_x)[:, 1] # 1 class predictions\n",
    "\n",
    "for threshold in [0.25, 0.3,.35,0.4, .45]:\n",
    "    pred = (probabilities >= threshold).astype(int)\n",
    "    print('Accuracy Score: ', accuracy_score(test_y,pred))\n",
    "    print(confusion_matrix(test_y, pred))\n",
    "    print(classification_report(test_y, pred))\n",
    "    print(f\"Threshold: {threshold}\")\n",
    "    \n",
    "  "
   ]
  },
  {
   "cell_type": "markdown",
   "id": "cc250459",
   "metadata": {},
   "source": [
    "Threshold value of 0.35 seems to perform well in terms of recall."
   ]
  },
  {
   "cell_type": "markdown",
   "id": "66db308f",
   "metadata": {},
   "source": [
    "Now we proceed with tuning the Adaboost classifier using GridsearchCV. A custom function will be used for scoring such that we get the best model which gives high recall for the positive(stroke) class."
   ]
  },
  {
   "cell_type": "code",
   "execution_count": 456,
   "id": "4956232b",
   "metadata": {},
   "outputs": [
    {
     "name": "stdout",
     "output_type": "stream",
     "text": [
      "{'learning_rate': 0.01, 'n_estimators': 10}\n",
      "Accuracy Score:  0.6223091976516634\n",
      "[[881 572]\n",
      " [  7  73]]\n",
      "              precision    recall  f1-score   support\n",
      "\n",
      "           0       0.99      0.61      0.75      1453\n",
      "           1       0.11      0.91      0.20        80\n",
      "\n",
      "    accuracy                           0.62      1533\n",
      "   macro avg       0.55      0.76      0.48      1533\n",
      "weighted avg       0.95      0.62      0.72      1533\n",
      "\n"
     ]
    }
   ],
   "source": [
    "from sklearn.metrics import make_scorer, f1_score\n",
    "from sklearn.model_selection import GridSearchCV\n",
    "from sklearn.ensemble import AdaBoostClassifier\n",
    "\n",
    "param_grid = {'n_estimators': [5, 10,20,50], 'learning_rate': [ 0.1, 0.01, 0.001]}\n",
    "\n",
    "def custom_recall_class1(y_true, y_pred):\n",
    "    return recall_score(y_true, y_pred, pos_label=1)\n",
    "\n",
    "s=make_scorer(custom_recall_class1)\n",
    "#s = make_scorer(f1_score)\n",
    "\n",
    "\n",
    "grid = GridSearchCV(AdaBoostClassifier(), param_grid, cv=5, scoring=s)\n",
    "grid.fit(train_xsmote, train_ysmote)\n",
    "\n",
    "\n",
    "best_params = grid.best_params_\n",
    "best_model=grid.best_estimator_\n",
    "print(best_params)\n",
    "\n",
    "pred=best_model.predict(test_x)\n",
    "print('Accuracy Score: ', accuracy_score(test_y,pred))\n",
    "print(confusion_matrix(test_y, pred))\n",
    "print(classification_report(test_y, pred))"
   ]
  },
  {
   "cell_type": "markdown",
   "id": "69be1df5",
   "metadata": {},
   "source": [
    "The model with parameters: {'learning_rate': 0.01, 'n_estimators': 10} works very well in not missing much positive cases, but at the same time returns too many false positives. Lets try using f1 score instead of class specific recall for scoring:"
   ]
  },
  {
   "cell_type": "code",
   "execution_count": 457,
   "id": "160634c2",
   "metadata": {},
   "outputs": [
    {
     "name": "stdout",
     "output_type": "stream",
     "text": [
      "{'learning_rate': 0.1, 'n_estimators': 50}\n",
      "Accuracy Score:  0.7273320287018917\n",
      "[[1049  404]\n",
      " [  14   66]]\n",
      "              precision    recall  f1-score   support\n",
      "\n",
      "           0       0.99      0.72      0.83      1453\n",
      "           1       0.14      0.82      0.24        80\n",
      "\n",
      "    accuracy                           0.73      1533\n",
      "   macro avg       0.56      0.77      0.54      1533\n",
      "weighted avg       0.94      0.73      0.80      1533\n",
      "\n"
     ]
    }
   ],
   "source": [
    "param_grid = {'n_estimators': [5, 10,20,50], 'learning_rate': [ 0.1, 0.01, 0.001]}\n",
    "\n",
    "#def custom_recall_class1(y_true, y_pred):\n",
    "#    return recall_score(y_true, y_pred, pos_label=1)\n",
    "\n",
    "#s=make_scorer(custom_recall_class1)\n",
    "s = make_scorer(f1_score)\n",
    "\n",
    "\n",
    "grid = GridSearchCV(AdaBoostClassifier(), param_grid, cv=5, scoring=s)\n",
    "grid.fit(train_xsmote, train_ysmote)\n",
    "\n",
    "\n",
    "best_params = grid.best_params_\n",
    "best_model=grid.best_estimator_\n",
    "print(best_params)\n",
    "\n",
    "pred=best_model.predict(test_x)\n",
    "print('Accuracy Score: ', accuracy_score(test_y,pred))\n",
    "print(confusion_matrix(test_y, pred))\n",
    "print(classification_report(test_y, pred))"
   ]
  },
  {
   "cell_type": "markdown",
   "id": "4b5ecef0",
   "metadata": {},
   "source": [
    "Increasing the number of estimators to 50 returned a more balanced model. Further, lets try some manual tuning:"
   ]
  },
  {
   "cell_type": "code",
   "execution_count": 458,
   "id": "e3ecf7b8",
   "metadata": {},
   "outputs": [
    {
     "name": "stdout",
     "output_type": "stream",
     "text": [
      "Accuracy of the AdaBoost model:  0.7325505544683627\n",
      "[[1057  396]\n",
      " [  14   66]]\n",
      "              precision    recall  f1-score   support\n",
      "\n",
      "           0       0.99      0.73      0.84      1453\n",
      "           1       0.14      0.82      0.24        80\n",
      "\n",
      "    accuracy                           0.73      1533\n",
      "   macro avg       0.56      0.78      0.54      1533\n",
      "weighted avg       0.94      0.73      0.81      1533\n",
      "\n"
     ]
    }
   ],
   "source": [
    "# Here we set n_estimators=33, learning_rate=0.2\n",
    "\n",
    "ab_model = AdaBoostClassifier(n_estimators=33, learning_rate=0.2).fit(train_xsmote, train_ysmote)\n",
    "pred=ab_model.predict(test_x)\n",
    "\n",
    "print('Accuracy of the AdaBoost model: ', accuracy_score(test_y, pred))\n",
    "print(confusion_matrix(test_y, pred))\n",
    "print(classification_report(test_y, pred))    "
   ]
  },
  {
   "cell_type": "markdown",
   "id": "ecf0eafa",
   "metadata": {},
   "source": [
    "Setting n_estimators=33 and learning_rate=0.2 returned a model with high recall and moderate accuracy."
   ]
  },
  {
   "cell_type": "markdown",
   "id": "9b18d74d",
   "metadata": {},
   "source": [
    "Model Metrics\n",
    "\n",
    "Random Forest      :   Accuracy= 0.89   ,  Stroke class specific Recall= 0.20 \n",
    "\n",
    "Logistic Regression:   Accuracy= 0.72   ,  Stroke class specific Recall= 0.85\n",
    "\n",
    "Ada Boost          :   Accuracy= 0.73   ,  Stroke class specific Recall= 0.82"
   ]
  },
  {
   "cell_type": "markdown",
   "id": "f57756a5",
   "metadata": {},
   "source": [
    "In summary, it is important to select the appropriate model based on the requirements. In my view, having a few false positives is preferable to having many false negatives."
   ]
  },
  {
   "cell_type": "markdown",
   "id": "52a6abd5",
   "metadata": {},
   "source": [
    "# Explanation using SHAP"
   ]
  },
  {
   "cell_type": "markdown",
   "id": "c6377658",
   "metadata": {},
   "source": [
    "Initially, we generate a SHAP waterfall chart to examine the importance of different features. Subsequently, we utilize a beeswarm plot to visually represent the impact of each feature on the classification.\n",
    "\n",
    "TreeExplainer in SHAP is incomparably fater than KernelExplainer. The best models trained earlier were Logistic Regression and Adaboost, both not compatible with the TreeExplainer. Therefore, we train a RandomForest model to be explained using SHAP."
   ]
  },
  {
   "cell_type": "code",
   "execution_count": 460,
   "id": "4778314d",
   "metadata": {},
   "outputs": [],
   "source": [
    "# Pre-processing\n",
    "\n",
    "df_orig=df_orig.drop(['id', 'ever_married','gender', 'Residence_type'], axis=1)\n",
    "\n",
    "scaler=StandardScaler()\n",
    "df_orig[['age','avg_glucose_level', 'bmi']]=scaler.fit_transform(df_orig[['age','avg_glucose_level', 'bmi']])\n",
    "\n",
    "df_orig['work_type']=df_orig['work_type'].map({'children':-2,'Never_worked':-1,'Govt_job':0,'Self-employed':1,'Private':2})\n",
    "df_orig['smoking_status']=df_orig['smoking_status'].map({'never smoked':-1,'Unknown':0,'formerly smoked':1,'smokes':2})\n",
    "df_orig=df_orig.dropna(axis=0)\n"
   ]
  },
  {
   "cell_type": "code",
   "execution_count": 461,
   "id": "69bd1e63",
   "metadata": {},
   "outputs": [],
   "source": [
    "x=df_orig.drop('stroke', axis=1)\n",
    "y=df_orig['stroke']\n",
    "\n",
    "train_x,  test_x, train_y, test_y=train_test_split(x,y, test_size=0.3,random_state=10)\n",
    "\n",
    "smote=SMOTE(random_state=20)\n",
    "train_xsmote, train_ysmote=smote.fit_resample(train_x, train_y)"
   ]
  },
  {
   "cell_type": "code",
   "execution_count": 462,
   "id": "35957fd8",
   "metadata": {},
   "outputs": [
    {
     "name": "stdout",
     "output_type": "stream",
     "text": [
      "Accuracy Score:  0.723693143245078\n",
      "[[1021  391]\n",
      " [  16   45]]\n",
      "              precision    recall  f1-score   support\n",
      "\n",
      "           0       0.98      0.72      0.83      1412\n",
      "           1       0.10      0.74      0.18        61\n",
      "\n",
      "    accuracy                           0.72      1473\n",
      "   macro avg       0.54      0.73      0.51      1473\n",
      "weighted avg       0.95      0.72      0.81      1473\n",
      "\n"
     ]
    }
   ],
   "source": [
    "# Training the tree based model and checking its performance\n",
    "\n",
    "rf_model1=RandomForestClassifier(criterion='gini', n_estimators=40, max_depth=5,min_samples_split=10,min_samples_leaf=8).fit(train_xsmote, train_ysmote)\n",
    "pred=rf_model1.predict(test_x)\n",
    "print('Accuracy Score: ', accuracy_score(test_y,pred))\n",
    "print(confusion_matrix(test_y, pred))\n",
    "print(classification_report(test_y, pred))\n"
   ]
  },
  {
   "cell_type": "code",
   "execution_count": 463,
   "id": "f31d8d1f",
   "metadata": {},
   "outputs": [],
   "source": [
    "# SHAP \n",
    "\n",
    "explainer = shap.TreeExplainer(rf_model1)\n",
    "\n",
    "shap_values = explainer.shap_values(test_x)"
   ]
  },
  {
   "cell_type": "code",
   "execution_count": 465,
   "id": "3b239e41",
   "metadata": {},
   "outputs": [
    {
     "data": {
      "image/png": "[encoded data removed]",
      "text/plain": [
       "<Figure size 576x309.6 with 1 Axes>"
      ]
     },
     "metadata": {
      "needs_background": "light"
     },
     "output_type": "display_data"
    }
   ],
   "source": [
    "# The SHAP summary Waterplot\n",
    "shap.summary_plot(shap_values[1], test_x, plot_type=\"bar\")"
   ]
  },
  {
   "cell_type": "markdown",
   "id": "9696f836",
   "metadata": {},
   "source": [
    "Observe that Age, avg glucose level and work-type are the features that influence the classification the most. Surprisingly, hypertension and heart disease are affecting the least."
   ]
  },
  {
   "cell_type": "code",
   "execution_count": 464,
   "id": "36a5d600",
   "metadata": {},
   "outputs": [
    {
     "data": {
      "image/png": "[encoded data removed]",
      "text/plain": [
       "<Figure size 576x309.6 with 2 Axes>"
      ]
     },
     "metadata": {
      "needs_background": "light"
     },
     "output_type": "display_data"
    }
   ],
   "source": [
    "# The SHAP summary plot\n",
    "shap.summary_plot(shap_values[1], test_x, plot_type=\"dot\")"
   ]
  },
  {
   "cell_type": "markdown",
   "id": "58982596",
   "metadata": {},
   "source": [
    "It is evident that an increase in age has a positive correlation with the chance of experiencing a stroke. Moreover, a higher average glucose level also contributes to an increased chance of stroke. As anticipated, both smoking and hypertension have a positive influence on the likelihood of stroke. Additionally, a higher body mass index (BMI) seems to be associated with an increased chance of stroke.\n",
    "Interestingly, contrary to expectations, the presence of heart disease does not appear to have a positive impact on the occurrence of stroke."
   ]
  }
 ],
 "metadata": {
  "kernelspec": {
   "display_name": "Python 3",
   "language": "python",
   "name": "python3"
  },
  "language_info": {
   "codemirror_mode": {
    "name": "ipython",
    "version": 3
   },
   "file_extension": ".py",
   "mimetype": "text/x-python",
   "name": "python",
   "nbconvert_exporter": "python",
   "pygments_lexer": "ipython3",
   "version": "3.8.8"
  }
 },
 "nbformat": 4,
 "nbformat_minor": 5
}
